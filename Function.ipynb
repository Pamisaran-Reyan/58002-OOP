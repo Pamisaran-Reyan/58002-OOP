{
  "nbformat": 4,
  "nbformat_minor": 0,
  "metadata": {
    "colab": {
      "provenance": [],
      "authorship_tag": "ABX9TyPoMf04nlEjtDFBg2e+NCkM",
      "include_colab_link": true
    },
    "kernelspec": {
      "name": "python3",
      "display_name": "Python 3"
    },
    "language_info": {
      "name": "python"
    }
  },
  "cells": [
    {
      "cell_type": "markdown",
      "metadata": {
        "id": "view-in-github",
        "colab_type": "text"
      },
      "source": [
        "<a href=\"https://colab.research.google.com/github/Pamisaran-Reyan/58002-OOP/blob/main/Function.ipynb\" target=\"_parent\"><img src=\"https://colab.research.google.com/assets/colab-badge.svg\" alt=\"Open In Colab\"/></a>"
      ]
    },
    {
      "cell_type": "code",
      "source": [
        "class Shape:\n",
        "  def __init__(self, length, width):\n",
        "    self.length = length\n",
        "    self.width = width\n",
        "  \n",
        "  def area_rec(self):\n",
        "    return self.length * self.width\n",
        "  #def area_sqr(self,side):\n",
        "   # return self.side * self.side\n",
        "\n",
        "rectangle = Shape(10, 5)\n",
        "rectangle.area_rec()"
      ],
      "metadata": {
        "colab": {
          "base_uri": "https://localhost:8080/"
        },
        "id": "ZxqbK7dB3pn-",
        "outputId": "afe10318-6fee-4de4-f949-c7e6b3b5675c"
      },
      "execution_count": 9,
      "outputs": [
        {
          "output_type": "execute_result",
          "data": {
            "text/plain": [
              "50"
            ]
          },
          "metadata": {},
          "execution_count": 9
        }
      ]
    },
    {
      "cell_type": "markdown",
      "source": [
        "Create a function that will display your full name and name your class as Person:"
      ],
      "metadata": {
        "id": "jaW9PAst31_e"
      }
    },
    {
      "cell_type": "code",
      "source": [
        "class Person:\n",
        "  def __init__(self, Firstname, MI, Surname):\n",
        "    self.Firstname = Firstname\n",
        "    self.MI = MI\n",
        "    self.Surname = Surname\n",
        "\n",
        "  def fullname(self):\n",
        "    return self.Firstname + self.MI + self.Surname\n",
        "name = Person(\"Reyan Carl \", \"H. \", \"Pamisaran\")\n",
        "name.fullname()"
      ],
      "metadata": {
        "colab": {
          "base_uri": "https://localhost:8080/",
          "height": 35
        },
        "id": "fXGypNQz3_wt",
        "outputId": "a7cae885-630d-4fb8-9213-f2aba493a563"
      },
      "execution_count": 14,
      "outputs": [
        {
          "output_type": "execute_result",
          "data": {
            "text/plain": [
              "'Reyan Carl H. Pamisaran'"
            ],
            "application/vnd.google.colaboratory.intrinsic+json": {
              "type": "string"
            }
          },
          "metadata": {},
          "execution_count": 14
        }
      ]
    }
  ]
}