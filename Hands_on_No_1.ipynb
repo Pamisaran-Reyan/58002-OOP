{
  "nbformat": 4,
  "nbformat_minor": 0,
  "metadata": {
    "colab": {
      "provenance": [],
      "authorship_tag": "ABX9TyO95T479/XYp1qjW8BXMeSG",
      "include_colab_link": true
    },
    "kernelspec": {
      "name": "python3",
      "display_name": "Python 3"
    },
    "language_info": {
      "name": "python"
    }
  },
  "cells": [
    {
      "cell_type": "markdown",
      "metadata": {
        "id": "view-in-github",
        "colab_type": "text"
      },
      "source": [
        "<a href=\"https://colab.research.google.com/github/Pamisaran-Reyan/58002-OOP/blob/main/Hands_on_No_1.ipynb\" target=\"_parent\"><img src=\"https://colab.research.google.com/assets/colab-badge.svg\" alt=\"Open In Colab\"/></a>"
      ]
    },
    {
      "cell_type": "markdown",
      "source": [
        "Hands on No. 1\n",
        "\n"
      ],
      "metadata": {
        "id": "nsPBFZOt_CVb"
      }
    },
    {
      "cell_type": "markdown",
      "source": [
        "1. Create a Python program that displays the name of three students (Student 1, Student 2, Student 3) and the term grades\n",
        "2. Create a class name Person and attributes - std1, std2, std3, pre, mid, fin\n",
        "3. Compute the averageof each term grade using Grade() method\n",
        "4. Information about student's grades must be hidden from others"
      ],
      "metadata": {
        "id": "rOKKasUj_MeL"
      }
    },
    {
      "cell_type": "code",
      "source": [
        "class Person:\n",
        "  def __init__(self, std1, std2, std3, pre, mid, fin):\n",
        "    self.__std1 = std1\n",
        "    self.__std2 = std2\n",
        "    self.__std3 = std3\n",
        "    self.__pre = pre\n",
        "    self.__mid = mid\n",
        "    self.__fin = fin\n",
        "\n",
        "  def Grade(self):\n",
        "    return (self.__pre + self.__mid + self.__fin)/3\n",
        "  \n",
        "  def display1(self):\n",
        "    print(self.__std1, self.Grade(), \"\\n\")\n",
        "\n",
        "  def display2(self):\n",
        "    print(self.__std2, self.Grade(), \"\\n\")\n",
        "\n",
        "  def display3(self):\n",
        "    print(self.__std3, self.Grade())\n",
        "\n",
        "class student1(Person):\n",
        "  term_grade = Person(\"Average of Student 1 = \", 0, 0,\n",
        "                      float(input(\"Prelim Grade: \")),\n",
        "                      float(input(\"Midterm Grade: \")),\n",
        "                      float(input(\"Final Grade: \")))\n",
        "  term_grade.display1()\n",
        "\n",
        "class student2(Person):\n",
        "  term_grade = Person(0, \"Average of Student 2 = \", 0,\n",
        "                      float(input(\"Prelim Grade: \")),\n",
        "                      float(input(\"Midterm Grade: \")),\n",
        "                      float(input(\"Final Grade: \")))\n",
        "  term_grade.display2()\n",
        "\n",
        "class student3(Person):\n",
        "  term_grade = Person(0, 0,\"Average of Student 3 = \",\n",
        "                      float(input(\"Prelim Grade: \")),\n",
        "                      float(input(\"midterm Grade: \")),\n",
        "                      float(input(\"Final Grade: \")))\n",
        "  term_grade.display3()   "
      ],
      "metadata": {
        "colab": {
          "base_uri": "https://localhost:8080/"
        },
        "id": "wGV-CA0X_207",
        "outputId": "21ecf49f-cc79-485c-9d3d-b3e8d9e7909e"
      },
      "execution_count": 24,
      "outputs": [
        {
          "output_type": "stream",
          "name": "stdout",
          "text": [
            "Prelim Grade: 90\n",
            "Midterm Grade: 91\n",
            "Final Grade: 92\n",
            "Average of Student 1 =  91.0 \n",
            "\n",
            "Prelim Grade: 95\n",
            "Midterm Grade: 93\n",
            "Final Grade: 90\n",
            "Average of Student 2 =  92.66666666666667 \n",
            "\n",
            "Prelim Grade: 54\n",
            "midterm Grade: 70\n",
            "Final Grade: 80\n",
            "Average of Student 3 =  68.0\n"
          ]
        }
      ]
    }
  ]
}