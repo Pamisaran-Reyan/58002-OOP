{
  "nbformat": 4,
  "nbformat_minor": 0,
  "metadata": {
    "colab": {
      "provenance": [],
      "authorship_tag": "ABX9TyO6bXiOeO85Jq51g4MVKQ3g",
      "include_colab_link": true
    },
    "kernelspec": {
      "name": "python3",
      "display_name": "Python 3"
    },
    "language_info": {
      "name": "python"
    }
  },
  "cells": [
    {
      "cell_type": "markdown",
      "metadata": {
        "id": "view-in-github",
        "colab_type": "text"
      },
      "source": [
        "<a href=\"https://colab.research.google.com/github/Pamisaran-Reyan/58002-OOP/blob/main/Control_Structure.ipynb\" target=\"_parent\"><img src=\"https://colab.research.google.com/assets/colab-badge.svg\" alt=\"Open In Colab\"/></a>"
      ]
    },
    {
      "cell_type": "code",
      "execution_count": 6,
      "metadata": {
        "id": "7XhA7obAk8jT"
      },
      "outputs": [],
      "source": [
        "#If Statement\n",
        "a = 50\n",
        "b = 50\n",
        "if a>b:\n",
        "  print(\"a is greater than b\")"
      ]
    },
    {
      "cell_type": "code",
      "source": [
        "#Elif Statement\n",
        "if a>b:\n",
        "  print(\"a is greater than b\")\n",
        "elif a<b:\n",
        "  print(\"a is less than b\")"
      ],
      "metadata": {
        "colab": {
          "base_uri": "https://localhost:8080/"
        },
        "id": "AjxLK7JQlQz1",
        "outputId": "5f945771-a8ed-4f9e-c9b3-5af2019ebb12"
      },
      "execution_count": 3,
      "outputs": [
        {
          "output_type": "stream",
          "name": "stdout",
          "text": [
            "a is less than b\n"
          ]
        }
      ]
    },
    {
      "cell_type": "code",
      "source": [
        "#Else Statement\n",
        "if a>b:\n",
        "  print(\"a is greater than b\")\n",
        "elif a<b:\n",
        "  print(\"a is less than b\")\n",
        "else:\n",
        "  print(\"a is equal to b\")"
      ],
      "metadata": {
        "colab": {
          "base_uri": "https://localhost:8080/"
        },
        "id": "Mj8lzFJAlqEl",
        "outputId": "10739514-caf4-408e-b367-befb92a90f70"
      },
      "execution_count": 7,
      "outputs": [
        {
          "output_type": "stream",
          "name": "stdout",
          "text": [
            "a is equal to b\n"
          ]
        }
      ]
    },
    {
      "cell_type": "markdown",
      "source": [
        "Short Hand if..."
      ],
      "metadata": {
        "id": "trRDs4gamOPV"
      }
    },
    {
      "cell_type": "code",
      "source": [
        "if a==b: print(\"a is equal to b\")"
      ],
      "metadata": {
        "colab": {
          "base_uri": "https://localhost:8080/"
        },
        "id": "0ZOzGKy9mRyl",
        "outputId": "55e80e63-f5e5-4468-c3ab-fa1f3af23ca6"
      },
      "execution_count": 10,
      "outputs": [
        {
          "output_type": "stream",
          "name": "stdout",
          "text": [
            "a is equall to b\n"
          ]
        }
      ]
    },
    {
      "cell_type": "markdown",
      "source": [
        "Short Hand if... Else"
      ],
      "metadata": {
        "id": "ynv7XeDNmh8m"
      }
    },
    {
      "cell_type": "code",
      "source": [
        "print(\"a is greater than b\")if a>b else print(\"a is less than b\")"
      ],
      "metadata": {
        "colab": {
          "base_uri": "https://localhost:8080/"
        },
        "id": "PGU_QRFpmlHG",
        "outputId": "9bca442b-fd9e-4997-fc83-bcb4251db68e"
      },
      "execution_count": 12,
      "outputs": [
        {
          "output_type": "stream",
          "name": "stdout",
          "text": [
            "a is less than b\n"
          ]
        }
      ]
    },
    {
      "cell_type": "markdown",
      "source": [
        "And Condition"
      ],
      "metadata": {
        "id": "UEjSPm5oniuv"
      }
    },
    {
      "cell_type": "code",
      "source": [
        "s = 75\n",
        "t = 70\n",
        "\n",
        "if s>t and t<s:\n",
        "  print(\"s>t and t<s\")"
      ],
      "metadata": {
        "colab": {
          "base_uri": "https://localhost:8080/"
        },
        "id": "-jotAbofnlf3",
        "outputId": "b3a07607-0cf7-4d39-ab93-00703ede8066"
      },
      "execution_count": 16,
      "outputs": [
        {
          "output_type": "stream",
          "name": "stdout",
          "text": [
            "s>t and t<s\n"
          ]
        }
      ]
    },
    {
      "cell_type": "markdown",
      "source": [
        "Or Condition"
      ],
      "metadata": {
        "id": "e8Sv6g9DoASX"
      }
    },
    {
      "cell_type": "code",
      "source": [
        "print(\"s>t and t<s\")"
      ],
      "metadata": {
        "colab": {
          "base_uri": "https://localhost:8080/"
        },
        "id": "jXfibQwFoCcW",
        "outputId": "5ef23d0b-e0f2-4217-a332-e6eba34c6816"
      },
      "execution_count": 17,
      "outputs": [
        {
          "output_type": "stream",
          "name": "stdout",
          "text": [
            "s>t and t<s\n"
          ]
        }
      ]
    },
    {
      "cell_type": "markdown",
      "source": [
        "Nested If..."
      ],
      "metadata": {
        "id": "QBW4PJarovsu"
      }
    },
    {
      "cell_type": "code",
      "source": [
        "x = float(input())\n",
        "if x>10:\n",
        "  print(\"above 10\")\n",
        "  if x>20:\n",
        "    print(\"above 20\")\n",
        "    if x>30:\n",
        "      print(\"above 30\")\n",
        "      if x>40:\n",
        "        print(\"above 40\")\n",
        "        if x>50:\n",
        "          print(\"above 50\")\n",
        "        else:\n",
        "            print(\"below 50\")\n",
        "      else:\n",
        "        print(\"below 40\")\n",
        "    else:\n",
        "      print(\"below 30\")\n",
        "  else:\n",
        "    print(\"below 20\")\n",
        "else:\n",
        "  print(\"below 10\")"
      ],
      "metadata": {
        "colab": {
          "base_uri": "https://localhost:8080/"
        },
        "id": "priUMZQHo1l-",
        "outputId": "ea9b4e83-f879-4817-e481-a4849508ce64"
      },
      "execution_count": 29,
      "outputs": [
        {
          "output_type": "stream",
          "name": "stdout",
          "text": [
            "45.9\n",
            "above 10\n",
            "above 20\n",
            "above 30\n",
            "above 40\n",
            "below 50\n"
          ]
        }
      ]
    },
    {
      "cell_type": "markdown",
      "source": [
        "Example 1"
      ],
      "metadata": {
        "id": "Wm4D-7JstaHo"
      }
    },
    {
      "cell_type": "code",
      "source": [
        "x = int(input())\n",
        "if x>18:\n",
        "  print(\"Qualified to Vote\")\n",
        "else:\n",
        "  print(\"Not Qualified\")"
      ],
      "metadata": {
        "colab": {
          "base_uri": "https://localhost:8080/"
        },
        "id": "2tDBgP9utgHQ",
        "outputId": "c216cc80-b6d6-437e-f1e8-cce95bfa5198"
      },
      "execution_count": 31,
      "outputs": [
        {
          "output_type": "stream",
          "name": "stdout",
          "text": [
            "21\n",
            "Qualified to Vote\n"
          ]
        }
      ]
    },
    {
      "cell_type": "markdown",
      "source": [
        "Example 2"
      ],
      "metadata": {
        "id": "eZRO64GOtnFh"
      }
    },
    {
      "cell_type": "code",
      "source": [
        "x = int(input())\n",
        "if x>0:\n",
        "  print(\"Positive\")\n",
        "elif x==0:\n",
        "  print(\"Zero\")\n",
        "else:\n",
        "  print(\"Negative\")"
      ],
      "metadata": {
        "colab": {
          "base_uri": "https://localhost:8080/"
        },
        "id": "Q-Yfb772tonA",
        "outputId": "df69d397-d174-4f8f-e031-7490ff5688ba"
      },
      "execution_count": 46,
      "outputs": [
        {
          "output_type": "stream",
          "name": "stdout",
          "text": [
            "6\n",
            "Positive\n"
          ]
        }
      ]
    },
    {
      "cell_type": "markdown",
      "source": [
        "Example 3"
      ],
      "metadata": {
        "id": "Cy6qyqe8tpMg"
      }
    },
    {
      "cell_type": "code",
      "source": [
        "x = int(input())\n",
        "if x >= 70 and x <= 100:\n",
        "  print(\"Passed\")\n",
        "elif x >= 65 and x <= 69:\n",
        "  print(\"Remedial\")\n",
        "elif x <= 64 and x == 0:\n",
        "  print(\"Failed\")\n",
        "else:\n",
        "  print(\"Not Accepted\")"
      ],
      "metadata": {
        "colab": {
          "base_uri": "https://localhost:8080/"
        },
        "id": "vPOgPrl-tqeA",
        "outputId": "7c7972a9-ff3a-4b97-e54d-c1faf1385b64"
      },
      "execution_count": 74,
      "outputs": [
        {
          "output_type": "stream",
          "name": "stdout",
          "text": [
            "-1\n",
            "Not Accepted\n"
          ]
        }
      ]
    }
  ]
}