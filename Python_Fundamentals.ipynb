{
  "nbformat": 4,
  "nbformat_minor": 0,
  "metadata": {
    "colab": {
      "provenance": [],
      "authorship_tag": "ABX9TyNjh5ONB7E5ljlzuEhI7Ub3",
      "include_colab_link": true
    },
    "kernelspec": {
      "name": "python3",
      "display_name": "Python 3"
    },
    "language_info": {
      "name": "python"
    }
  },
  "cells": [
    {
      "cell_type": "markdown",
      "metadata": {
        "id": "view-in-github",
        "colab_type": "text"
      },
      "source": [
        "<a href=\"https://colab.research.google.com/github/Pamisaran-Reyan/58002-OOP/blob/main/Python_Fundamentals.ipynb\" target=\"_parent\"><img src=\"https://colab.research.google.com/assets/colab-badge.svg\" alt=\"Open In Colab\"/></a>"
      ]
    },
    {
      "cell_type": "markdown",
      "source": [
        "Python Indentation"
      ],
      "metadata": {
        "id": "UtVDC2u4XjTZ"
      }
    },
    {
      "cell_type": "code",
      "source": [
        "if 5>2:\n",
        "  print(\"Five is greater than two\")"
      ],
      "metadata": {
        "colab": {
          "base_uri": "https://localhost:8080/"
        },
        "id": "4WTrpLygY5Zl",
        "outputId": "06658e80-67a7-4d28-e0ea-a3ce7a4291a3"
      },
      "execution_count": 10,
      "outputs": [
        {
          "output_type": "stream",
          "name": "stdout",
          "text": [
            "Five is greater than two\n"
          ]
        }
      ]
    },
    {
      "cell_type": "markdown",
      "source": [
        "Python Comment"
      ],
      "metadata": {
        "id": "k732DnIPZxE0"
      }
    },
    {
      "cell_type": "code",
      "source": [
        "#This is a comment\n",
        "print(\"Hello World\")"
      ],
      "metadata": {
        "colab": {
          "base_uri": "https://localhost:8080/"
        },
        "id": "oIRyKnq4aP47",
        "outputId": "9f8b7016-e1fd-4ab3-ee83-b1539ecc29cf"
      },
      "execution_count": 11,
      "outputs": [
        {
          "output_type": "stream",
          "name": "stdout",
          "text": [
            "Hello World\n"
          ]
        }
      ]
    },
    {
      "cell_type": "markdown",
      "source": [
        "Naming Variable"
      ],
      "metadata": {
        "id": "CUFl5fxEafI3"
      }
    },
    {
      "cell_type": "code",
      "source": [
        "#single variable with single value \n",
        "x = 1\n",
        "y = 2\n",
        "print (x)\n",
        "print (y)\n",
        "\n",
        "#multiple variable with single value\n",
        "a = b = c = \"maria\"\n",
        "\n",
        "print (a)\n",
        "print (b)\n",
        "print (c)\n",
        "\n",
        "#multiple variable with multiple variable\n",
        "\n",
        "e, f, g=1,2,3\n",
        "print(e)\n",
        "print(f)\n",
        "print(g)\n"
      ],
      "metadata": {
        "colab": {
          "base_uri": "https://localhost:8080/"
        },
        "id": "6WExaY60aklc",
        "outputId": "0115ccbf-f68d-419c-fb5c-b01db7a938dd"
      },
      "execution_count": 28,
      "outputs": [
        {
          "output_type": "stream",
          "name": "stdout",
          "text": [
            "1\n",
            "2\n",
            "maria\n",
            "maria\n",
            "maria\n",
            "1\n",
            "2\n",
            "3\n"
          ]
        }
      ]
    },
    {
      "cell_type": "markdown",
      "source": [
        "Single or Double"
      ],
      "metadata": {
        "id": "kOS9OYZChyDO"
      }
    },
    {
      "cell_type": "code",
      "source": [
        "v = \"Sally\"\n",
        "u = 'Sally'\n",
        "print(u)\n",
        "print(v)\n"
      ],
      "metadata": {
        "colab": {
          "base_uri": "https://localhost:8080/"
        },
        "id": "igc19UHCh09X",
        "outputId": "2f816c03-602b-47b0-9d60-21f18b084aac"
      },
      "execution_count": 31,
      "outputs": [
        {
          "output_type": "stream",
          "name": "stdout",
          "text": [
            "Sally\n",
            "Sally\n"
          ]
        }
      ]
    },
    {
      "cell_type": "markdown",
      "source": [
        "Casting"
      ],
      "metadata": {
        "id": "w6ZsZEnfiK4L"
      }
    },
    {
      "cell_type": "code",
      "source": [
        "p = float(5)\n",
        "p"
      ],
      "metadata": {
        "colab": {
          "base_uri": "https://localhost:8080/"
        },
        "id": "4gKoiMf6iM7j",
        "outputId": "6b052c71-4bf0-4e8d-d60d-74a6a0b8c81f"
      },
      "execution_count": 32,
      "outputs": [
        {
          "output_type": "execute_result",
          "data": {
            "text/plain": [
              "5.0"
            ]
          },
          "metadata": {},
          "execution_count": 32
        }
      ]
    },
    {
      "cell_type": "markdown",
      "source": [
        "Type() Function"
      ],
      "metadata": {
        "id": "XQx4ObZhiTJu"
      }
    },
    {
      "cell_type": "code",
      "source": [
        "f = \"Ana\"\n",
        "g = 4.56\n",
        "\n",
        "print(type(f))\n",
        "print(type(g))\n"
      ],
      "metadata": {
        "colab": {
          "base_uri": "https://localhost:8080/"
        },
        "id": "4Hz6eKfzidat",
        "outputId": "14ff749b-5249-4735-fd4a-176f6cf1f757"
      },
      "execution_count": 33,
      "outputs": [
        {
          "output_type": "stream",
          "name": "stdout",
          "text": [
            "<class 'str'>\n",
            "<class 'float'>\n"
          ]
        }
      ]
    },
    {
      "cell_type": "markdown",
      "source": [
        "Output Variable"
      ],
      "metadata": {
        "id": "IIwMPKyYipnN"
      }
    },
    {
      "cell_type": "code",
      "source": [
        "x = \"Enjoying\"\n",
        "print (\"Python Programming is \" + x)\n"
      ],
      "metadata": {
        "colab": {
          "base_uri": "https://localhost:8080/"
        },
        "id": "tzJGl8jYisL2",
        "outputId": "9beb8fd2-bc33-4047-8b9f-e0d1fb11cb81"
      },
      "execution_count": 34,
      "outputs": [
        {
          "output_type": "stream",
          "name": "stdout",
          "text": [
            "Python Programming is Enjoying\n"
          ]
        }
      ]
    },
    {
      "cell_type": "markdown",
      "source": [
        "Concentation Symbol"
      ],
      "metadata": {
        "id": "C1xcZrzji8M4"
      }
    },
    {
      "cell_type": "code",
      "source": [
        "k = \"Enjoying\"\n",
        "j = \"Python Programming is \"\n",
        "print(\"Python Programming is \" + \"\" + k)\n",
        "print(\"Python Programming is \" + k)\n",
        "print(j+k)\n"
      ],
      "metadata": {
        "colab": {
          "base_uri": "https://localhost:8080/"
        },
        "id": "dlEi3YZDi-Ot",
        "outputId": "571ce6d6-d2a7-49e7-e032-380d935994c6"
      },
      "execution_count": 35,
      "outputs": [
        {
          "output_type": "stream",
          "name": "stdout",
          "text": [
            "Python Programming is Enjoying\n",
            "Python Programming is Enjoying\n",
            "Python Programming is Enjoying\n"
          ]
        }
      ]
    },
    {
      "cell_type": "code",
      "source": [],
      "metadata": {
        "id": "sh65BF75aP28"
      },
      "execution_count": null,
      "outputs": []
    }
  ]
}