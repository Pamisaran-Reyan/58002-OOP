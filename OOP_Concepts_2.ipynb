{
  "nbformat": 4,
  "nbformat_minor": 0,
  "metadata": {
    "colab": {
      "provenance": [],
      "authorship_tag": "ABX9TyPvZh7gEKaeXBO6jpti7BpA",
      "include_colab_link": true
    },
    "kernelspec": {
      "name": "python3",
      "display_name": "Python 3"
    },
    "language_info": {
      "name": "python"
    }
  },
  "cells": [
    {
      "cell_type": "markdown",
      "metadata": {
        "id": "view-in-github",
        "colab_type": "text"
      },
      "source": [
        "<a href=\"https://colab.research.google.com/github/Pamisaran-Reyan/58002-OOP/blob/main/OOP_Concepts_2.ipynb\" target=\"_parent\"><img src=\"https://colab.research.google.com/assets/colab-badge.svg\" alt=\"Open In Colab\"/></a>"
      ]
    },
    {
      "cell_type": "markdown",
      "source": [
        "Mangling with __ double underscore"
      ],
      "metadata": {
        "id": "-WV2Xi2g74XD"
      }
    },
    {
      "cell_type": "code",
      "execution_count": 1,
      "metadata": {
        "colab": {
          "base_uri": "https://localhost:8080/"
        },
        "id": "6TncQ9z32dy1",
        "outputId": "d0ec37bc-9027-4d76-ae8a-ff83f6176520"
      },
      "outputs": [
        {
          "output_type": "execute_result",
          "data": {
            "text/plain": [
              "7"
            ]
          },
          "metadata": {},
          "execution_count": 1
        }
      ],
      "source": [
        "class foo:\n",
        "  def __init__(self, a, b):\n",
        "    self.a = a\n",
        "    self.b = b\n",
        "  def add(self):\n",
        "    return self.a + self.b\n",
        "foo_object = foo(3,4)\n",
        "foo_object.add()"
      ]
    },
    {
      "cell_type": "code",
      "source": [
        "#Class with multiple objects\n",
        "\n",
        "class birds:\n",
        "  def __init__(self,name_birds):\n",
        "    self.name_birds = name_birds\n",
        "  def flying_birds(self):\n",
        "    print(f\"The {self.name_birds} is the flying birds above the sky\")\n",
        "  def non_flying_birds(self):\n",
        "    print(f\"The {self.name_birds} is the non flying bird\")\n",
        "\n",
        "eagle = birds(\"Eagle\")\n",
        "chicken = birds(\"Chicken\")\n",
        "eagle.flying_birds()\n",
        "chicken.non_flying_birds()"
      ],
      "metadata": {
        "colab": {
          "base_uri": "https://localhost:8080/"
        },
        "id": "VGTQ0PV49QAq",
        "outputId": "6b79d0f5-402a-41d6-a706-2d8df04e6625"
      },
      "execution_count": 6,
      "outputs": [
        {
          "output_type": "stream",
          "name": "stdout",
          "text": [
            "The Eagle is the flying birds above the sky\n",
            "The Chicken is the non flying bird\n"
          ]
        }
      ]
    },
    {
      "cell_type": "code",
      "source": [
        "#Encapsulation\n",
        "class foo:\n",
        "  def __init__(self,a,b):\n",
        "    self.__a = a\n",
        "    self.__b = b\n",
        "  def add(self):\n",
        "    return self.__a + self.__b\n",
        "\n",
        "foo_object = foo(3,4)\n",
        "foo_object.add()\n",
        "foo_object.a = 7\n",
        "foo_object.b = 6\n",
        "foo_object.add()"
      ],
      "metadata": {
        "colab": {
          "base_uri": "https://localhost:8080/"
        },
        "id": "UiNiiThU_I3y",
        "outputId": "67267fb3-50c2-4360-9ba0-0b064643724c"
      },
      "execution_count": 29,
      "outputs": [
        {
          "output_type": "execute_result",
          "data": {
            "text/plain": [
              "7"
            ]
          },
          "metadata": {},
          "execution_count": 29
        }
      ]
    },
    {
      "cell_type": "code",
      "source": [
        "#Inheritance\n",
        "class Person:\n",
        "  def __init__(self,name,birthdate):\n",
        "    self.name = name\n",
        "    self.birthdate = birthdate\n",
        "  def display(self):\n",
        "    print(\"My name is \",self.name)\n",
        "    print(\"My birthdate is \",self.birthdate)\n",
        "class Student(Person):\n",
        "  pass\n",
        "person = Person(\"Reyan\", \"September 27, 2003\")\n",
        "person.display()\n",
        "\n",
        "student = Student(\"Ana\",\"March 14, 1991\")\n",
        "student.display()"
      ],
      "metadata": {
        "colab": {
          "base_uri": "https://localhost:8080/"
        },
        "id": "yeFhQQUSA3on",
        "outputId": "7100fac8-27f9-4f01-f256-8665a964adcc"
      },
      "execution_count": 25,
      "outputs": [
        {
          "output_type": "stream",
          "name": "stdout",
          "text": [
            "My name is  Reyan\n",
            "My birthdate is  September 27, 2003\n",
            "My name is  Ana\n",
            "My birthdate is  March 14, 1991\n"
          ]
        }
      ]
    },
    {
      "cell_type": "code",
      "source": [
        "class Shapes:\n",
        "  def __init__(self,side,shape):\n",
        "    self.__side = side\n",
        "    self.__shape = shape\n",
        "  def display(self):\n",
        "    print(\"The shape is \",self.__shape)\n",
        "    print(\"with a side of \",self.__side)\n",
        "class Triangle(Shapes):\n",
        "  pass\n",
        "class Pentagon(Shapes):\n",
        "  pass\n",
        "class Octagon(Shapes):\n",
        "  pass\n",
        "class Heptagon(Shapes):\n",
        "  pass\n",
        "\n",
        "shapes = Shapes(\"4\",\"Square\")\n",
        "shapes.display()\n",
        "\n",
        "triangle = Triangle(\"3\",\"Triangle\")\n",
        "triangle.display()\n",
        "\n",
        "pentagon = Pentagon(\"5\",\"Pentagon\")\n",
        "pentagon.display()\n",
        "\n",
        "octagon = Octagon(\"8\",\"Octagon\")\n",
        "octagon.display()\n",
        "\n",
        "heptagon = Heptagon(\"6\",\"Heptagon\")\n",
        "heptagon.display()"
      ],
      "metadata": {
        "colab": {
          "base_uri": "https://localhost:8080/"
        },
        "id": "cytl3f8rC76p",
        "outputId": "c319a95a-c406-4d19-c616-f7f56d41798b"
      },
      "execution_count": 45,
      "outputs": [
        {
          "output_type": "stream",
          "name": "stdout",
          "text": [
            "The shape is  Square\n",
            "with a side of  4\n",
            "The shape is  Triangle\n",
            "with a side of  3\n",
            "The shape is  Pentagon\n",
            "with a side of  5\n",
            "The shape is  Octagon\n",
            "with a side of  8\n",
            "The shape is  Heptagon\n",
            "with a side of  6\n"
          ]
        }
      ]
    }
  ]
}